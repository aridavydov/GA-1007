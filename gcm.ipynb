{
  "nbformat": 4,
  "nbformat_minor": 0,
  "metadata": {
    "colab": {
      "provenance": []
    },
    "kernelspec": {
      "name": "python3",
      "display_name": "Python 3"
    },
    "language_info": {
      "name": "python"
    }
  },
  "cells": [
    {
      "cell_type": "code",
      "execution_count": 10,
      "metadata": {
        "id": "b0irfu3jdHKK"
      },
      "outputs": [],
      "source": [
        "def gcd(a, b):\n",
        "  print(str(a) + \" \" + str(b))\n",
        "  if b == 0:\n",
        "    return a\n",
        "  else:\n",
        "    return gcd(b, (a % b))"
      ]
    },
    {
      "cell_type": "code",
      "source": [
        "gcd(1220, 516)"
      ],
      "metadata": {
        "colab": {
          "base_uri": "https://localhost:8080/"
        },
        "id": "PZUsDOOJdMvm",
        "outputId": "3d3fd035-a2f0-4900-afe9-2754e1fe4737"
      },
      "execution_count": 11,
      "outputs": [
        {
          "output_type": "stream",
          "name": "stdout",
          "text": [
            "1220 516\n",
            "516 188\n",
            "188 140\n",
            "140 48\n",
            "48 44\n",
            "44 4\n",
            "4 0\n"
          ]
        },
        {
          "output_type": "execute_result",
          "data": {
            "text/plain": [
              "4"
            ]
          },
          "metadata": {},
          "execution_count": 11
        }
      ]
    },
    {
      "cell_type": "code",
      "source": [],
      "metadata": {
        "id": "Oc7pmO0JdQZQ"
      },
      "execution_count": null,
      "outputs": []
    }
  ]
}